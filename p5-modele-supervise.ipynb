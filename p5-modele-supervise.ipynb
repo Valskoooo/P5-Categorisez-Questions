{
 "cells": [
  {
   "cell_type": "markdown",
   "metadata": {},
   "source": [
    "# Modelisation supervisee"
   ]
  },
  {
   "cell_type": "markdown",
   "metadata": {},
   "source": [
    "## A. Pre-requis et Nettoyage"
   ]
  },
  {
   "cell_type": "code",
   "execution_count": 41,
   "metadata": {},
   "outputs": [],
   "source": [
    "import pandas as pd\n",
    "import seaborn as sns\n",
    "import matplotlib.pyplot as plt\n",
    "import spacy\n",
    "import re\n",
    "\n",
    "from sklearn.decomposition import PCA\n",
    "from sklearn.preprocessing import LabelEncoder\n",
    "from sklearn.feature_extraction.text import CountVectorizer\n",
    "from sklearn.model_selection import train_test_split\n",
    "from sklearn.model_selection import GridSearchCV\n",
    "from sklearn.linear_model import LogisticRegression\n",
    "from sklearn.metrics import accuracy_score, precision_score, recall_score, f1_score, confusion_matrix, classification_report"
   ]
  },
  {
   "cell_type": "code",
   "execution_count": 42,
   "metadata": {},
   "outputs": [],
   "source": [
    "df = pd.read_csv(\"dataset/dataset-clean-v2.csv\")"
   ]
  },
  {
   "cell_type": "code",
   "execution_count": 43,
   "metadata": {},
   "outputs": [
    {
     "data": {
      "text/html": [
       "<div>\n",
       "<style scoped>\n",
       "    .dataframe tbody tr th:only-of-type {\n",
       "        vertical-align: middle;\n",
       "    }\n",
       "\n",
       "    .dataframe tbody tr th {\n",
       "        vertical-align: top;\n",
       "    }\n",
       "\n",
       "    .dataframe thead th {\n",
       "        text-align: right;\n",
       "    }\n",
       "</style>\n",
       "<table border=\"1\" class=\"dataframe\">\n",
       "  <thead>\n",
       "    <tr style=\"text-align: right;\">\n",
       "      <th></th>\n",
       "      <th>Unnamed: 0</th>\n",
       "      <th>Title</th>\n",
       "      <th>Body</th>\n",
       "      <th>Tags</th>\n",
       "      <th>Id</th>\n",
       "      <th>Score</th>\n",
       "      <th>ViewCount</th>\n",
       "      <th>AnswerCount</th>\n",
       "      <th>preproc_tags</th>\n",
       "      <th>preproc_body</th>\n",
       "      <th>preproc_title</th>\n",
       "    </tr>\n",
       "  </thead>\n",
       "  <tbody>\n",
       "    <tr>\n",
       "      <th>0</th>\n",
       "      <td>0</td>\n",
       "      <td>Is gettimeofday() guaranteed to be of microsec...</td>\n",
       "      <td>&lt;p&gt;I am porting a game, that was originally wr...</td>\n",
       "      <td>&lt;linux&gt;&lt;winapi&gt;&lt;visual-c++&gt;&lt;unix&gt;&lt;timer&gt;</td>\n",
       "      <td>88</td>\n",
       "      <td>107</td>\n",
       "      <td>45385</td>\n",
       "      <td>10</td>\n",
       "      <td>['linux', 'winapi', 'visual-c++', 'unix', 'tim...</td>\n",
       "      <td>['port', 'game', 'originally', 'write', 'win32...</td>\n",
       "      <td>['gettimeofday', 'guarantee', 'microsecond', '...</td>\n",
       "    </tr>\n",
       "    <tr>\n",
       "      <th>1</th>\n",
       "      <td>1</td>\n",
       "      <td>Decoding T-SQL CAST in C#/VB.NET</td>\n",
       "      <td>&lt;p&gt;Recently our site has been deluged with the...</td>\n",
       "      <td>&lt;c#&gt;&lt;sql&gt;&lt;vb.net&gt;&lt;ascii&gt;&lt;hex&gt;</td>\n",
       "      <td>109</td>\n",
       "      <td>68</td>\n",
       "      <td>6252</td>\n",
       "      <td>2</td>\n",
       "      <td>['c#', 'sql', 'vb.net', 'ascii', 'hex']</td>\n",
       "      <td>['recently', 'site', 'deluge', 'resurgence', '...</td>\n",
       "      <td>['decode', 'sql', 'cast']</td>\n",
       "    </tr>\n",
       "    <tr>\n",
       "      <th>2</th>\n",
       "      <td>2</td>\n",
       "      <td>Displaying Flash content in a C# WinForms appl...</td>\n",
       "      <td>&lt;p&gt;What is the best way to display &lt;code&gt;Flash...</td>\n",
       "      <td>&lt;c#&gt;&lt;winforms&gt;&lt;flash&gt;&lt;adobe&gt;&lt;macromedia&gt;</td>\n",
       "      <td>1037</td>\n",
       "      <td>40</td>\n",
       "      <td>37517</td>\n",
       "      <td>2</td>\n",
       "      <td>['c#', 'winforms', 'flash', 'adobe', 'macromed...</td>\n",
       "      <td>['good', 'way', 'display', 'flash', 'content',...</td>\n",
       "      <td>['display', 'flash', 'content', 'winforms', 'a...</td>\n",
       "    </tr>\n",
       "    <tr>\n",
       "      <th>3</th>\n",
       "      <td>3</td>\n",
       "      <td>Why doesn't SQL Full Text Indexing return resu...</td>\n",
       "      <td>&lt;p&gt;For instance, my query is like the followin...</td>\n",
       "      <td>&lt;sql&gt;&lt;sql-server&gt;&lt;sql-server-2005&gt;&lt;indexing&gt;&lt;f...</td>\n",
       "      <td>1042</td>\n",
       "      <td>26</td>\n",
       "      <td>9479</td>\n",
       "      <td>2</td>\n",
       "      <td>['sql', 'sql-server', 'sql-server-2005', 'inde...</td>\n",
       "      <td>['instance', 'query', 'like', 'follow', 'sql',...</td>\n",
       "      <td>['sql', 'text', 'indexing', 'return', 'result'...</td>\n",
       "    </tr>\n",
       "    <tr>\n",
       "      <th>4</th>\n",
       "      <td>4</td>\n",
       "      <td>How can I unit test Flex applications from wit...</td>\n",
       "      <td>&lt;p&gt;I'm currently working on an application wit...</td>\n",
       "      <td>&lt;apache-flex&gt;&lt;eclipse&gt;&lt;unit-testing&gt;&lt;build-aut...</td>\n",
       "      <td>2222</td>\n",
       "      <td>18</td>\n",
       "      <td>2764</td>\n",
       "      <td>4</td>\n",
       "      <td>['apache-flex', 'eclipse', 'unit-testing', 'bu...</td>\n",
       "      <td>['currently', 'work', 'application', 'frontend...</td>\n",
       "      <td>['unit', 'test', 'flex', 'application', 'ide',...</td>\n",
       "    </tr>\n",
       "  </tbody>\n",
       "</table>\n",
       "</div>"
      ],
      "text/plain": [
       "   Unnamed: 0                                              Title  \\\n",
       "0           0  Is gettimeofday() guaranteed to be of microsec...   \n",
       "1           1                   Decoding T-SQL CAST in C#/VB.NET   \n",
       "2           2  Displaying Flash content in a C# WinForms appl...   \n",
       "3           3  Why doesn't SQL Full Text Indexing return resu...   \n",
       "4           4  How can I unit test Flex applications from wit...   \n",
       "\n",
       "                                                Body  \\\n",
       "0  <p>I am porting a game, that was originally wr...   \n",
       "1  <p>Recently our site has been deluged with the...   \n",
       "2  <p>What is the best way to display <code>Flash...   \n",
       "3  <p>For instance, my query is like the followin...   \n",
       "4  <p>I'm currently working on an application wit...   \n",
       "\n",
       "                                                Tags    Id  Score  ViewCount  \\\n",
       "0           <linux><winapi><visual-c++><unix><timer>    88    107      45385   \n",
       "1                      <c#><sql><vb.net><ascii><hex>   109     68       6252   \n",
       "2           <c#><winforms><flash><adobe><macromedia>  1037     40      37517   \n",
       "3  <sql><sql-server><sql-server-2005><indexing><f...  1042     26       9479   \n",
       "4  <apache-flex><eclipse><unit-testing><build-aut...  2222     18       2764   \n",
       "\n",
       "   AnswerCount                                       preproc_tags  \\\n",
       "0           10  ['linux', 'winapi', 'visual-c++', 'unix', 'tim...   \n",
       "1            2            ['c#', 'sql', 'vb.net', 'ascii', 'hex']   \n",
       "2            2  ['c#', 'winforms', 'flash', 'adobe', 'macromed...   \n",
       "3            2  ['sql', 'sql-server', 'sql-server-2005', 'inde...   \n",
       "4            4  ['apache-flex', 'eclipse', 'unit-testing', 'bu...   \n",
       "\n",
       "                                        preproc_body  \\\n",
       "0  ['port', 'game', 'originally', 'write', 'win32...   \n",
       "1  ['recently', 'site', 'deluge', 'resurgence', '...   \n",
       "2  ['good', 'way', 'display', 'flash', 'content',...   \n",
       "3  ['instance', 'query', 'like', 'follow', 'sql',...   \n",
       "4  ['currently', 'work', 'application', 'frontend...   \n",
       "\n",
       "                                       preproc_title  \n",
       "0  ['gettimeofday', 'guarantee', 'microsecond', '...  \n",
       "1                          ['decode', 'sql', 'cast']  \n",
       "2  ['display', 'flash', 'content', 'winforms', 'a...  \n",
       "3  ['sql', 'text', 'indexing', 'return', 'result'...  \n",
       "4  ['unit', 'test', 'flex', 'application', 'ide',...  "
      ]
     },
     "execution_count": 43,
     "metadata": {},
     "output_type": "execute_result"
    }
   ],
   "source": [
    "df.head()"
   ]
  },
  {
   "cell_type": "code",
   "execution_count": 44,
   "metadata": {},
   "outputs": [],
   "source": [
    "def convert_columns(text):\n",
    "    \"\"\"\n",
    "    Convertit une chaîne de caractères en liste de mots en remplaçant certains caractères spéciaux et en séparant les éléments.\n",
    "\n",
    "    Args:\n",
    "        text (str): La chaîne de caractères à traiter. Celle-ci peut contenir des crochets, des virgules et des guillemets.\n",
    "\n",
    "    Returns:\n",
    "        list: Une liste de mots extraits de la chaîne, avec les caractères spéciaux remplacés par des espaces.\n",
    "    \"\"\"\n",
    "    return text.replace(\"[\", \" \").replace(\"]\", \" \").replace(\",\", \" \").replace(\"'\", \" \").split()"
   ]
  },
  {
   "cell_type": "code",
   "execution_count": 45,
   "metadata": {},
   "outputs": [],
   "source": [
    "# Appliquer la fonction 'convert_columns' aux variables 'preproc_tags', 'preproc_body', 'preproc_title'\n",
    "\n",
    "df['preproc_title'] = df['preproc_title'].apply(convert_columns)\n",
    "df['preproc_body'] = df['preproc_body'].apply(convert_columns)\n",
    "df['preproc_tags'] = df['preproc_tags'].apply(convert_columns)"
   ]
  },
  {
   "cell_type": "code",
   "execution_count": 46,
   "metadata": {},
   "outputs": [],
   "source": [
    "# Fonction pour le pre-processing du texte\n",
    "\n",
    "# Charger le modèle de langue\n",
    "nlp = spacy.load(\"en_core_web_sm\")\n",
    "\n",
    "# Liste des mots spécifiques à conserver (comme \"C++\", \"C#\", etc.)\n",
    "whitelist = [\"c#\", \"c++\"]\n",
    "\n",
    "# Fonction pour le traitement du texte\n",
    "def preprocess_text(text):\n",
    "    # Enlever les balises HTML\n",
    "    #soup = BeautifulSoup(text, \"lxml\").get_text()\n",
    "    doc = nlp(text)  # Traiter le texte avec spaCy\n",
    "    \n",
    "    # Expression régulière pour vérifier les caractères anglais uniquement (ASCII)\n",
    "    def is_english(token):\n",
    "        return re.match(r'^[a-zA-Z0-9+.#]+$', token)\n",
    "\n",
    "    tokens = [\n",
    "        # Utiliser le lemme sauf si le mot est dans la whitelist\n",
    "        token.lemma_.lower() if token.lemma_.lower() not in whitelist else token.text.lower()\n",
    "        for token in doc \n",
    "        if not token.is_stop                         # Ne pas inclure les stopwords\n",
    "        and not token.is_punct                       # Ne pas inclure la ponctuation\n",
    "        and not token.like_num                       # Ne pas inclure les chiffres\n",
    "        and len(token.lemma_) >= 3                    # Exclure les tokens trop courts\n",
    "        and (is_english(token.text) or token.text.lower() in whitelist)  # Garder les mots anglais ou ceux de la whitelist\n",
    "    ]\n",
    "    print(tokens)\n",
    "    return tokens"
   ]
  },
  {
   "cell_type": "markdown",
   "metadata": {},
   "source": [
    "## B. Features Engineering"
   ]
  },
  {
   "cell_type": "code",
   "execution_count": 47,
   "metadata": {},
   "outputs": [],
   "source": [
    "df['encoded_tags'] = LabelEncoder().fit_transform(df['preproc_tags'].apply(lambda x: ' '.join(x)))"
   ]
  },
  {
   "cell_type": "code",
   "execution_count": 48,
   "metadata": {},
   "outputs": [],
   "source": [
    "# Creation de la variable 'text' qui regroupe les colonnes 'preproc_title' et 'preproc_body'\n",
    "\n",
    "df['corpus'] = df['preproc_body'].apply(lambda x: ' '.join(x)) + ' ' + df['preproc_title'].apply(lambda x: ' '.join(x))"
   ]
  },
  {
   "cell_type": "code",
   "execution_count": 49,
   "metadata": {},
   "outputs": [],
   "source": [
    "# Créer une liste de tous les tags présents dans la variable 'preproc_tags'\n",
    "all_tags = df['preproc_tags'].explode().tolist()\n",
    "# BEGIN: LabelEncoder for all_tags\n",
    "label_encoder = LabelEncoder()\n",
    "encoded_label = label_encoder.fit_transform(all_tags)"
   ]
  },
  {
   "cell_type": "markdown",
   "metadata": {},
   "source": [
    "## C. Modelisation"
   ]
  },
  {
   "cell_type": "markdown",
   "metadata": {},
   "source": [
    "### 1 : Regression Logistique avec Bag of Words"
   ]
  },
  {
   "cell_type": "markdown",
   "metadata": {},
   "source": [
    "#### Creation du Bag-Of-Words"
   ]
  },
  {
   "cell_type": "code",
   "execution_count": 50,
   "metadata": {},
   "outputs": [
    {
     "name": "stdout",
     "output_type": "stream",
     "text": [
      "(50000, 118148)\n"
     ]
    },
    {
     "ename": "",
     "evalue": "",
     "output_type": "error",
     "traceback": [
      "\u001b[1;31mThe Kernel crashed while executing code in the current cell or a previous cell. \n",
      "\u001b[1;31mPlease review the code in the cell(s) to identify a possible cause of the failure. \n",
      "\u001b[1;31mClick <a href='https://aka.ms/vscodeJupyterKernelCrash'>here</a> for more info. \n",
      "\u001b[1;31mView Jupyter <a href='command:jupyter.viewOutput'>log</a> for further details."
     ]
    }
   ],
   "source": [
    "# Initialiser le CountVectorizer\n",
    "vectorizer = CountVectorizer()\n",
    "\n",
    "# Appliquer le vectorizer sur le corpus\n",
    "X_bow = vectorizer.fit_transform(df['corpus'].sample(50000))\n",
    "\n",
    "# Afficher la forme de la matrice BoW\n",
    "print(X_bow.shape)"
   ]
  },
  {
   "cell_type": "markdown",
   "metadata": {},
   "source": [
    "#### Reduction des dimensions avec ACP"
   ]
  },
  {
   "cell_type": "code",
   "execution_count": 37,
   "metadata": {},
   "outputs": [],
   "source": [
    "#Appliquer l'ACP pour réduire la dimensionnalité\n",
    "pca = PCA(n_components=2)  # Réduire à 2 dimensions pour la visualisation\n",
    "X_pca = pca.fit_transform(X_bow.toarray())  # Convertir en tableau dense\n",
    "\n",
    "# Créer un DataFrame pour stocker les résultats de l'ACP\n",
    "df_pca = pd.DataFrame(X_pca, columns=['PC1', 'PC2'])"
   ]
  },
  {
   "cell_type": "markdown",
   "metadata": {},
   "source": [
    "#### Separation des donnees en ensemble d'entrainement et de test"
   ]
  },
  {
   "cell_type": "code",
   "execution_count": 38,
   "metadata": {},
   "outputs": [],
   "source": [
    "# Répartition des données\n",
    "X_train, X_test, y_train, y_test = train_test_split(X_pca, encoded_label[:50000], test_size=0.2, random_state=42)"
   ]
  },
  {
   "cell_type": "markdown",
   "metadata": {},
   "source": [
    "#### Modelisation"
   ]
  },
  {
   "cell_type": "code",
   "execution_count": 39,
   "metadata": {},
   "outputs": [
    {
     "name": "stderr",
     "output_type": "stream",
     "text": [
      "/Users/vdumont/Library/Caches/pypoetry/virtualenvs/projet_5-xoaF25Sd-py3.12/lib/python3.12/site-packages/sklearn/linear_model/_sag.py:349: ConvergenceWarning: The max_iter was reached which means the coef_ did not converge\n",
      "  warnings.warn(\n"
     ]
    }
   ],
   "source": [
    "# Modelisation avec Regression Logistique\n",
    "# Initialiser le classifieur\n",
    "model_reg_log = LogisticRegression(C=0.1, max_iter=100, solver='saga')\n",
    "\n",
    "# Entrainer GridSearchCV\n",
    "model_reg_log.fit(X_train, y_train)\n",
    "\n",
    "# Faire des predictions sur l'ensemble de test\n",
    "y_pred = model_reg_log.predict(X_test)"
   ]
  },
  {
   "cell_type": "markdown",
   "metadata": {},
   "source": [
    "#### Resultat & Scoring"
   ]
  },
  {
   "cell_type": "markdown",
   "metadata": {},
   "source": [
    "#### Predire une suggestion de tags"
   ]
  },
  {
   "cell_type": "code",
   "execution_count": 40,
   "metadata": {},
   "outputs": [
    {
     "name": "stdout",
     "output_type": "stream",
     "text": [
      "['compile', 'gcc', 'debian']\n",
      "['java' 'c#' 'java']\n"
     ]
    }
   ],
   "source": [
    "phrase = \"How to compile with gcc on Debian 10 ?\"\n",
    "\n",
    "phrase_vectorizer = vectorizer.fit_transform(preprocess_text(phrase))\n",
    "phrase_vectorizer_acp = pca.fit_transform(phrase_vectorizer.toarray())\n",
    "predicted_tags = model_reg_log.predict(phrase_vectorizer_acp)\n",
    "\n",
    "# Afficher les tags encodés dans leur format textuel\n",
    "decoded_tags = label_encoder.inverse_transform(predicted_tags)\n",
    "print(decoded_tags)"
   ]
  },
  {
   "cell_type": "markdown",
   "metadata": {},
   "source": [
    "### 2 : Regression Logistique avec Word2Vec"
   ]
  },
  {
   "cell_type": "markdown",
   "metadata": {},
   "source": [
    "#### Creation de vecteurs avec Word2Vec"
   ]
  },
  {
   "cell_type": "markdown",
   "metadata": {},
   "source": [
    "#### Separation des donnees en ensemble d'entrainement et de test"
   ]
  },
  {
   "cell_type": "markdown",
   "metadata": {},
   "source": [
    "#### Modelisation"
   ]
  },
  {
   "cell_type": "markdown",
   "metadata": {},
   "source": [
    "#### Resultat & Scoring"
   ]
  },
  {
   "cell_type": "markdown",
   "metadata": {},
   "source": [
    "#### Predire une suggestion de tags"
   ]
  }
 ],
 "metadata": {
  "kernelspec": {
   "display_name": "projet-Pfk8s4i7-py3.12",
   "language": "python",
   "name": "python3"
  },
  "language_info": {
   "codemirror_mode": {
    "name": "ipython",
    "version": 3
   },
   "file_extension": ".py",
   "mimetype": "text/x-python",
   "name": "python",
   "nbconvert_exporter": "python",
   "pygments_lexer": "ipython3",
   "version": "3.12.6"
  }
 },
 "nbformat": 4,
 "nbformat_minor": 2
}
